{
  "nbformat": 4,
  "nbformat_minor": 0,
  "metadata": {
    "colab": {
      "private_outputs": true,
      "provenance": [],
      "collapsed_sections": [
        "mDgbUHAGgjLW",
        "gIfDvo9L0UH2"
      ],
      "include_colab_link": true
    },
    "kernelspec": {
      "name": "python3",
      "display_name": "Python 3"
    },
    "language_info": {
      "name": "python"
    }
  },
  "cells": [
    {
      "cell_type": "markdown",
      "metadata": {
        "id": "view-in-github",
        "colab_type": "text"
      },
      "source": [
        "<a href=\"https://colab.research.google.com/github/amalks02/capstone-project/blob/main/Capstone_project_Airbnb_EDA_Submission_.ipynb\" target=\"_parent\"><img src=\"https://colab.research.google.com/assets/colab-badge.svg\" alt=\"Open In Colab\"/></a>"
      ]
    },
    {
      "cell_type": "markdown",
      "source": [
        "# **Project Name**    -  Exploratory Data Analysis on AirBnb Bookings Dataset\n",
        "\n",
        "\n"
      ],
      "metadata": {
        "id": "vncDsAP0Gaoa"
      }
    },
    {
      "cell_type": "markdown",
      "source": [
        "##### **Project Type**    - EDA\n",
        "##### **Contribution**    - Amal ks\n"
      ],
      "metadata": {
        "id": "beRrZCGUAJYm"
      }
    },
    {
      "cell_type": "markdown",
      "source": [
        "# **Project Summary -**"
      ],
      "metadata": {
        "id": "FJNUwmbgGyua"
      }
    },
    {
      "cell_type": "markdown",
      "source": [
        "\n",
        "The Airbnb EDA (Exploratory Data Analysis) project involved analyzing a dataset containing information about Airbnb listings, including various attributes such as location, property type, price, availability, and guest reviews. The goal of the project was to gain insights into the data and provide recommendations to help Airbnb achieve its business objectives.\n",
        "\n",
        "Here's a summary of the key steps and findings from the Airbnb EDA project:\n",
        "\n",
        "* Data Collection: The project started with collecting the Airbnb dataset, which contained information about listings, hosts, and guests. The dataset included features such as listing price, property type, neighborhood, availability, and guest reviews.\n",
        "* Data Cleaning and Preprocessing: This data set contains null values and 0 values in the columns and also some outliers in the continuous variables.\n",
        "Removed 2 column 'last_review','calculated_host_listings_count' because these columns doesn't have not much influence on the analysis process of the dataset.name,host_ame contains null values we just replaced it with 0 .We replace the price values greater than 700 as 700, so that we are not losing any data from the dataset.\n",
        "* Exploratory Data Analysis (EDA): The main focus of the project was on EDA, which involved analyzing the dataset to gain insights into various aspects of Airbnb listings and guest behavior. This included visualizations such as histograms, bar plots, box plots, and scatter plots to explore relationships, distributions, and trends in the data.\n",
        "\n",
        "Following plots are used to evaluate the data\n",
        "\n",
        "\n",
        "*   No. of rentals/properties which are grouped by room_type in each neighbourhood\n",
        "*   Average price for each neighbourhood group\n",
        "\n",
        "\n",
        "*   Overall Price distribution throughout NY\n",
        "*   In search of a famous Host\n",
        "\n",
        "\n",
        "*   Average price for room_type throughout NY\n",
        "*   Price vs minimum nights\n",
        "\n",
        "*   Distribution of availability of room vs neighbourhood group\n",
        "*   Which neighourhood is mostly preffered wrt to reviews per month\n",
        "\n",
        "*   Longitude and Latitude\n",
        "*   Maps with respect to room_types available throughout NY\n",
        "\n",
        "*   Maps which tells us about the price variation of all available properties\n",
        "*   Correlation Heatmap\n",
        "\n",
        "*   Pair plot\n",
        "\n",
        "\n",
        "\n",
        "\n",
        "\n",
        "\n",
        "\n",
        "\n",
        "\n",
        "\n",
        "\n",
        "\n"
      ],
      "metadata": {
        "id": "F6v_1wHtG2nS"
      }
    },
    {
      "cell_type": "markdown",
      "source": [
        "# **GitHub Link -**"
      ],
      "metadata": {
        "id": "w6K7xa23Elo4"
      }
    },
    {
      "cell_type": "markdown",
      "source": [
        "Provide your GitHub Link here."
      ],
      "metadata": {
        "id": "h1o69JH3Eqqn"
      }
    },
    {
      "cell_type": "markdown",
      "source": [
        "# **Problem Statement**\n"
      ],
      "metadata": {
        "id": "yQaldy8SH6Dl"
      }
    },
    {
      "cell_type": "markdown",
      "source": [
        "Since 2008, guests and hosts have used Airbnb to expand on traveling possibilities and present a more unique, personalized way of experiencing the world. Today, Airbnb became one of a kind service that is used and recognized by the whole world. Data analysis on millions of listings provided through Airbnb is a crucial factor for the company. These millions of listings generate a lot of data - data that can be analyzed and used for security, business decisions, understanding of customers' and providers' (hosts) behavior and performance on the platform, guiding marketing initiatives, implementation of innovative additional services and much more.\n",
        "This dataset has around 49,000 observations in it with 16 columns and it is a mix between categorical and numeric values.\n",
        "Explore and analyse the data to discover key understandings.\n"
      ],
      "metadata": {
        "id": "DpeJGUA3kjGy"
      }
    },
    {
      "cell_type": "markdown",
      "source": [
        "#### **Define Your Business Objective?**"
      ],
      "metadata": {
        "id": "PH-0ReGfmX4f"
      }
    },
    {
      "cell_type": "markdown",
      "source": [
        "\n",
        "\n",
        "*    Aims to maximize revenue by attracting more guests to book accommodations and experiences through its platform.\n",
        "*   Providing a seamless and enjoyable experience for both hosts and guests is crucial. This includes ensuring accurate listings, efficient booking processes, and reliable customer support.\n",
        "\n",
        "\n",
        "*   Encouraging hosts to list their properties and engage with guests can help business maintain a diverse range of accommodations and experiences on its platform.\n",
        "\n",
        "\n",
        "\n",
        "\n",
        "\n",
        "\n"
      ],
      "metadata": {
        "id": "PhDvGCAqmjP1"
      }
    },
    {
      "cell_type": "markdown",
      "source": [
        "# **General Guidelines** : -  "
      ],
      "metadata": {
        "id": "mDgbUHAGgjLW"
      }
    },
    {
      "cell_type": "markdown",
      "source": [
        "1.   Well-structured, formatted, and commented code is required.\n",
        "2.   Exception Handling, Production Grade Code & Deployment Ready Code will be a plus. Those students will be awarded some additional credits.\n",
        "     \n",
        "     The additional credits will have advantages over other students during Star Student selection.\n",
        "       \n",
        "             [ Note: - Deployment Ready Code is defined as, the whole .ipynb notebook should be executable in one go\n",
        "                       without a single error logged. ]\n",
        "\n",
        "3.   Each and every logic should have proper comments.\n",
        "4. You may add as many number of charts you want. Make Sure for each and every chart the following format should be answered.\n",
        "        \n",
        "\n",
        "```\n",
        "# Chart visualization code\n",
        "```\n",
        "            \n",
        "\n",
        "*   Why did you pick the specific chart?\n",
        "*   What is/are the insight(s) found from the chart?\n",
        "* Will the gained insights help creating a positive business impact?\n",
        "Are there any insights that lead to negative growth? Justify with specific reason.\n",
        "\n",
        "5. You have to create at least 20 logical & meaningful charts having important insights.\n",
        "\n",
        "\n",
        "[ Hints : - Do the Vizualization in  a structured way while following \"UBM\" Rule.\n",
        "\n",
        "U - Univariate Analysis,\n",
        "\n",
        "B - Bivariate Analysis (Numerical - Categorical, Numerical - Numerical, Categorical - Categorical)\n",
        "\n",
        "M - Multivariate Analysis\n",
        " ]\n",
        "\n",
        "\n",
        "\n"
      ],
      "metadata": {
        "id": "ZrxVaUj-hHfC"
      }
    },
    {
      "cell_type": "markdown",
      "source": [
        "# ***Let's Begin !***"
      ],
      "metadata": {
        "id": "O_i_v8NEhb9l"
      }
    },
    {
      "cell_type": "markdown",
      "source": [
        "## ***1. Know Your Data***"
      ],
      "metadata": {
        "id": "HhfV-JJviCcP"
      }
    },
    {
      "cell_type": "markdown",
      "source": [
        "### Import Libraries"
      ],
      "metadata": {
        "id": "Y3lxredqlCYt"
      }
    },
    {
      "cell_type": "code",
      "source": [
        "# Import Libraries\n",
        "import pandas as pd\n",
        "import numpy as np\n",
        "import matplotlib.pyplot as plt\n",
        "%matplotlib inline\n",
        "import seaborn as sns"
      ],
      "metadata": {
        "id": "M8Vqi-pPk-HR"
      },
      "execution_count": null,
      "outputs": []
    },
    {
      "cell_type": "markdown",
      "source": [
        "### Dataset Loading"
      ],
      "metadata": {
        "id": "3RnN4peoiCZX"
      }
    },
    {
      "cell_type": "code",
      "source": [
        "# Load Dataset\n",
        "from google.colab import drive\n",
        "drive.mount('/content/drive')"
      ],
      "metadata": {
        "id": "4CkvbW_SlZ_R"
      },
      "execution_count": null,
      "outputs": []
    },
    {
      "cell_type": "code",
      "source": [
        "# loading csv File\n",
        "\n",
        "file_path = '/content/drive/MyDrive/Airbnb NYC 2019.csv'\n",
        "airbnb_df=pd.read_csv(file_path)"
      ],
      "metadata": {
        "id": "w02lx2ufcHyu"
      },
      "execution_count": null,
      "outputs": []
    },
    {
      "cell_type": "markdown",
      "source": [
        "### Dataset First View"
      ],
      "metadata": {
        "id": "x71ZqKXriCWQ"
      }
    },
    {
      "cell_type": "code",
      "source": [
        "# Dataset First Look\n",
        "# Dataset first 5 rows\n",
        "print('First 5 rows of Airbnb booking NYC dataset : ')\n",
        "airbnb_df.head()"
      ],
      "metadata": {
        "id": "LWNFOSvLl09H"
      },
      "execution_count": null,
      "outputs": []
    },
    {
      "cell_type": "markdown",
      "source": [
        "### Dataset Rows & Columns count"
      ],
      "metadata": {
        "id": "7hBIi_osiCS2"
      }
    },
    {
      "cell_type": "code",
      "source": [
        "# Dataset Rows & Columns count\n",
        "\n",
        "# Displaying the Rows & Columns count using pandas shape method\n",
        "print(f'Air bnb NYC 2019 dataset has {airbnb_df.shape[0]} rows and {airbnb_df.shape[1]} columns')"
      ],
      "metadata": {
        "id": "Kllu7SJgmLij"
      },
      "execution_count": null,
      "outputs": []
    },
    {
      "cell_type": "markdown",
      "source": [
        "### Dataset Information"
      ],
      "metadata": {
        "id": "JlHwYmJAmNHm"
      }
    },
    {
      "cell_type": "code",
      "source": [
        "# Dataset Info\n",
        "\n",
        "# Displaying the column names corresponding data type of the column and non null count using pandas info method\n",
        "airbnb_df.info()"
      ],
      "metadata": {
        "id": "e9hRXRi6meOf"
      },
      "execution_count": null,
      "outputs": []
    },
    {
      "cell_type": "markdown",
      "source": [
        "#### Duplicate Values"
      ],
      "metadata": {
        "id": "35m5QtbWiB9F"
      }
    },
    {
      "cell_type": "code",
      "source": [
        "# Dataset Duplicate Value Count\n",
        "# Checking for the count of duplicate values using pandas duplicated method and finding total count of duplicates using sum method\n",
        "print(f'Total number of duplicate rows in the dataset is : {airbnb_df.duplicated().sum()}')\n"
      ],
      "metadata": {
        "id": "1sLdpKYkmox0"
      },
      "execution_count": null,
      "outputs": []
    },
    {
      "cell_type": "markdown",
      "source": [
        "#### Missing Values/Null Values"
      ],
      "metadata": {
        "id": "PoPl-ycgm1ru"
      }
    },
    {
      "cell_type": "code",
      "source": [
        "# Missing Values/Null Values Count\n",
        "\n",
        "# Finding total number of  Misiing values/Null values in dataset using isnull  and sum functions in series\n",
        "print(f'Total number of Missing/Null values in each column of the dataset is : \\n{airbnb_df.isnull().sum()}')"
      ],
      "metadata": {
        "id": "GgHWkxvamxVg"
      },
      "execution_count": null,
      "outputs": []
    },
    {
      "cell_type": "code",
      "source": [
        "# Visualizing the missing values\n",
        "\n",
        "# Calculates the number of missing values for each feature in the dataset and stores the result in the missing_values variable\n",
        "\n",
        "missing_values = airbnb_df.isnull().sum()\n",
        "\n",
        "# Plot missing values\n",
        "\n",
        "# Creating a plot of figure size (10,6)\n",
        "plt.figure(figsize=(10, 6))\n",
        "\n",
        "# Using barplot from seaborn library  and assigning X-axis as the column names and Y-axis as the no.of null values\n",
        "sns.barplot(x=missing_values.index, y=missing_values.values, palette='viridis')\n",
        "\n",
        "# Adjusting the X-axis label\n",
        "plt.xticks(rotation=90)\n",
        "\n",
        "# Defining X-label as Features\n",
        "plt.xlabel('Features')\n",
        "\n",
        "# Defining Y-label as Number of Missing values\n",
        "plt.ylabel('Number of Missing Values')\n",
        "\n",
        "# Defining title of the plot\n",
        "plt.title('Missing Values in Airbnb Dataset')\n",
        "\n",
        "plt.show()\n"
      ],
      "metadata": {
        "id": "3q5wnI3om9sJ"
      },
      "execution_count": null,
      "outputs": []
    },
    {
      "cell_type": "markdown",
      "source": [
        "### What did you know about your dataset?"
      ],
      "metadata": {
        "id": "H0kj-8xxnORC"
      }
    },
    {
      "cell_type": "markdown",
      "source": [
        "The Airbnb Dataset has 16 columns and 48895 rows. In that 16 columns 7 columns(id,host_id,price, minimum_nights,number_of_reviews,calculated_host_listings_count,availability_365) are containing the data in type of int64, 3 columns(latitude,longitude,reviews_per_month) are containing the data in type of float64 and 6 columns(name, host_name,neighbourhood_group,neighbourhood,room_type,last_review) are in the type of objects. The id column represents the unique id of each listings , host_id column represents the unique id of each hosts. Number of duplicate rows in this dataset is 0. Four columns containing null/missing values. Column 'name' containing 16 null values ,'host_name containing 21 null values, last_review and reviews_per_month containing 10052 null values respectively."
      ],
      "metadata": {
        "id": "gfoNAAC-nUe_"
      }
    },
    {
      "cell_type": "markdown",
      "source": [
        "## ***2. Understanding Your Variables***"
      ],
      "metadata": {
        "id": "nA9Y7ga8ng1Z"
      }
    },
    {
      "cell_type": "code",
      "source": [
        "# Dataset Columns\n",
        "# Column names of the dataset is\n",
        "print(f'Column names of the dataset is : \\n{airbnb_df.columns}')"
      ],
      "metadata": {
        "id": "j7xfkqrt5Ag5"
      },
      "execution_count": null,
      "outputs": []
    },
    {
      "cell_type": "code",
      "source": [
        "# Dataset Describe\n",
        "\n",
        "airbnb_df.describe()"
      ],
      "metadata": {
        "id": "DnOaZdaE5Q5t"
      },
      "execution_count": null,
      "outputs": []
    },
    {
      "cell_type": "markdown",
      "source": [
        "### Variables Description"
      ],
      "metadata": {
        "id": "PBTbrJXOngz2"
      }
    },
    {
      "cell_type": "markdown",
      "source": [
        "The dataset has 16 features.Here, column names 'name' and 'host_name' have very few null values when compared to the total records of the dataframe. But we have columns 'last_review' and 'reviews_per_month' with noticeable records which are missing.\n",
        "\n",
        " On these features Price feature has a minimum value as 0 this is may be wrong because there is no chance of host giving their property for free. Also the availability_365 column has a minimum value of 0 , this is not possible. These values are may be appeared in the dataset due to incorrect data entry or incorrect way of pulling the data. The price column has maximum value of 10000 and also the mean of the price column is 149.571777, the value showing that this is an outlier in the price column ."
      ],
      "metadata": {
        "id": "aJV4KIxSnxay"
      }
    },
    {
      "cell_type": "markdown",
      "source": [
        "### Check Unique Values for each variable."
      ],
      "metadata": {
        "id": "u3PMJOP6ngxN"
      }
    },
    {
      "cell_type": "code",
      "source": [
        "# Check Unique Values for each variable.\n",
        "# Iterate over each column in the DataFrame\n",
        "for column in airbnb_df.columns:\n",
        "\n",
        "  # Print the column name and the no.of unique values for the column\n",
        "  print(f\"No.of Unique values for the column '{column}' is : {len(airbnb_df[column].unique())}\")\n",
        "\n",
        "  # Add an empty line for better readability\n",
        "  print()"
      ],
      "metadata": {
        "id": "zms12Yq5n-jE"
      },
      "execution_count": null,
      "outputs": []
    },
    {
      "cell_type": "markdown",
      "source": [
        "## 3. ***Data Wrangling***"
      ],
      "metadata": {
        "id": "dauF4eBmngu3"
      }
    },
    {
      "cell_type": "markdown",
      "source": [
        "### Data Wrangling Code"
      ],
      "metadata": {
        "id": "bKJF3rekwFvQ"
      }
    },
    {
      "cell_type": "code",
      "source": [
        "# Treating outliers\n",
        "\n",
        "# Create a figure of size (10,10)\n",
        "plt.figure(figsize=(10,10))\n",
        "\n",
        "# Limiting y axis to 1500\n",
        "plt.ylim(0,1500)\n",
        "\n",
        "# Create boxplot\n",
        "sns.boxplot(airbnb_df,x='neighbourhood_group',y='price',hue='neighbourhood_group')"
      ],
      "metadata": {
        "id": "h8EPNk4jgV5b"
      },
      "execution_count": null,
      "outputs": []
    },
    {
      "cell_type": "code",
      "source": [
        "# No.of rows having price greater than 700\n",
        "len(airbnb_df[airbnb_df['price']>700])"
      ],
      "metadata": {
        "id": "DUx0Ly7Ahr8o"
      },
      "execution_count": null,
      "outputs": []
    },
    {
      "cell_type": "markdown",
      "source": [
        "We can see that price varies from 0 till 10,000 but there are a wide range of outliers present in here. We will try to minimize the outliers instead of removing them completely as we don't want to lose any data in here.We observed there are only 589 records which are having more than 600 as the price. So just taking the price of property which are more than 700 as 700, which will just minimize the number of outliers"
      ],
      "metadata": {
        "id": "nAiuY3fYiNaI"
      }
    },
    {
      "cell_type": "code",
      "source": [
        "# Changing the price values greater than 700 as 700\n",
        "airbnb_df['price'][airbnb_df['price']>700] = 700"
      ],
      "metadata": {
        "id": "pSvjKsoZiaaT"
      },
      "execution_count": null,
      "outputs": []
    },
    {
      "cell_type": "code",
      "source": [
        "# Create a figure of size (10,10)\n",
        "plt.figure(figsize=(10,10))\n",
        "\n",
        "# Limiting y axis to 1500\n",
        "plt.ylim(0,1500)\n",
        "\n",
        "# CReating boxplot\n",
        "sns.boxplot(airbnb_df,x='neighbourhood_group',y='price',hue='neighbourhood_group')"
      ],
      "metadata": {
        "id": "NNYe7RXRjOgD"
      },
      "execution_count": null,
      "outputs": []
    },
    {
      "cell_type": "code",
      "source": [
        "# Write your code to make your dataset analysis ready.\n",
        "\n",
        "# Create a function called data_wrangler()\n",
        "def data_wrangler(airbnb_df):\n",
        "\n",
        "  # Removing the rows of the column host_name and name\n",
        "  airbnb_df.dropna(axis=0,subset=['host_name','name'],inplace=True)\n",
        "\n",
        "  # Replace the null/missing values in the columns reviews_per_month with 0\n",
        "  airbnb_df.fillna({'reviews_per_month':0},inplace=True)\n",
        "\n",
        "  # Dropping 'last_review' and 'calculated_host_listings_count' column from the dataset\n",
        "  airbnb_df.drop(['last_review','calculated_host_listings_count'],axis=1,inplace=True)\n",
        "\n",
        "\n",
        "\n",
        "\n",
        "  return airbnb_df\n",
        "\n",
        "airbnb_df=data_wrangler(airbnb_df)"
      ],
      "metadata": {
        "id": "wk-9a2fpoLcV"
      },
      "execution_count": null,
      "outputs": []
    },
    {
      "cell_type": "markdown",
      "source": [
        "### What all manipulations have you done and insights you found?"
      ],
      "metadata": {
        "id": "MSa1f5Uengrz"
      }
    },
    {
      "cell_type": "markdown",
      "source": [
        "Manipulations done on the dataset\n",
        "\n",
        "\n",
        "*   Removed rows of the column host_name and name which has null\n",
        "value.\n",
        "\n",
        "*   Replaced the null/missing values in the columns reviews_per_month with 0.\n",
        "\n",
        "*   Removed 'last_review' and 'calculated_host_listings_count' from the dataset\n",
        "*   Treated the outliers in the price column by changing all the values greater than 700 as 700\n",
        "\n",
        "\n",
        "\n",
        "\n",
        "\n",
        "\n",
        "\n",
        "Insights found\n",
        "\n",
        "\n",
        "\n",
        "*   We can ignore the 'name' and 'host_name' columns missing values as we have unique ids for name and host_name as well.\n",
        "*   We dropped 'calculated_host_listings_count' as well, as it just gives the count of host_id.In further analysis, whenever is needed we can just calculate the count of those host_id instead of using this column.\n",
        "\n",
        "\n",
        "*   We treated the outliers in price column by changing the price value to 700 as maximum , by this way we reduce the lose of data.\n",
        "\n",
        "\n",
        "\n",
        "\n"
      ],
      "metadata": {
        "id": "LbyXE7I1olp8"
      }
    },
    {
      "cell_type": "markdown",
      "source": [
        "## ***4. Data Vizualization, Storytelling & Experimenting with charts : Understand the relationships between variables***"
      ],
      "metadata": {
        "id": "GF8Ens_Soomf"
      }
    },
    {
      "cell_type": "markdown",
      "source": [
        "####  No. of rentals/properties which are grouped by room_type in each neighbourhood"
      ],
      "metadata": {
        "id": "0wOQAZs5pc--"
      }
    },
    {
      "cell_type": "code",
      "source": [
        "# Chart - 1 visualization code\n",
        "\n",
        "# Create figure of size (10,5)\n",
        "plt.figure(figsize=(10,5))\n",
        "\n",
        "# Plot a countplot\n",
        "sns.countplot(x='neighbourhood_group', hue='room_type', data=airbnb_df)\n",
        "\n",
        "# Show the plot\n",
        "plt.show()"
      ],
      "metadata": {
        "id": "7v_ESjsspbW7"
      },
      "execution_count": null,
      "outputs": []
    },
    {
      "cell_type": "markdown",
      "source": [
        "##### 1. Why did you pick the specific chart?"
      ],
      "metadata": {
        "id": "K5QZ13OEpz2H"
      }
    },
    {
      "cell_type": "markdown",
      "source": [
        "\n",
        "A countplot is a type of bar plot that shows the count of observations in each category of a categorical variable. It is a useful visualization for understanding the distribution of categorical data and comparing the frequency of different categories."
      ],
      "metadata": {
        "id": "XESiWehPqBRc"
      }
    },
    {
      "cell_type": "markdown",
      "source": [
        "##### 2. What is/are the insight(s) found from the chart?"
      ],
      "metadata": {
        "id": "lQ7QKXXCp7Bj"
      }
    },
    {
      "cell_type": "markdown",
      "source": [
        "\n",
        "*  Manhattan and Brooklyn have the highest number of properties of home are avialbale in Manhattan when compared to all cities\n",
        "\n",
        "*   The private room properties are varying from cities to cities. Count of private roomtypes are all high/almost equal to the number of home properties except Manhattan\n",
        "*   shared room properties are very few in all cities\n",
        "\n",
        "\n",
        "\n",
        "\n"
      ],
      "metadata": {
        "id": "C_j1G7yiqdRP"
      }
    },
    {
      "cell_type": "markdown",
      "source": [
        "##### 3. Will the gained insights help creating a positive business impact?\n",
        "Are there any insights that lead to negative growth? Justify with specific reason."
      ],
      "metadata": {
        "id": "448CDAPjqfQr"
      }
    },
    {
      "cell_type": "markdown",
      "source": [
        "\n",
        "\n",
        "*   Manhattan and Brooklyn have the highest number of properties can help the company focus its marketing and expansion efforts in these areas. They can allocate more resources to improve existing properties or acquire new ones in these neighborhoods to meet the high demand.\n",
        "*    The observation that Manhattan has more entire home/apartment properties compared to other cities suggests a higher demand for this type of accommodation in that area. This insight can guide pricing strategies and property management decisions.\n",
        "\n",
        "\n",
        "*   The analysis also reveals that the count of private room properties varies across cities, with Manhattan having relatively fewer private rooms compared to other types. This indicates an opportunity for diversification or targeted marketing efforts to attract more guests seeking private accommodations in Manhattan.\n",
        "*    The observation that shared room properties are limited across all cities suggests that there may be less demand for this room type. The company can use this insight to reevaluate its inventory strategy and potentially reallocate resources from shared room properties to more popular room types or locations.\n",
        "\n",
        "\n"
      ],
      "metadata": {
        "id": "3cspy4FjqxJW"
      }
    },
    {
      "cell_type": "markdown",
      "source": [
        "#### Average price for each neighbourhood group"
      ],
      "metadata": {
        "id": "KSlN3yHqYklG"
      }
    },
    {
      "cell_type": "code",
      "source": [
        "# Chart - 2 visualization code\n",
        "\n",
        "# Finding average price of each room type for each neighbourhood_group\n",
        "avg_price_nbd= airbnb_df.groupby(['neighbourhood_group','room_type'],dropna=True)['price'].mean().reset_index()\n",
        "avg_price_nbd\n",
        "\n",
        "# Create a figure size of (10,8)\n",
        "plt.figure(figsize=(10,8))\n",
        "\n",
        "# Plot a bar plot\n",
        "sns.barplot(avg_price_nbd,x='neighbourhood_group',y='price', hue='room_type')\n",
        "\n",
        "\n",
        "# Show the plot\n",
        "plt.show()"
      ],
      "metadata": {
        "id": "R4YgtaqtYklH"
      },
      "execution_count": null,
      "outputs": []
    },
    {
      "cell_type": "code",
      "source": [
        "# Creating a bar plot\n",
        "mean_price=airbnb_df.groupby('neighbourhood_group')['price'].mean()\n",
        "mean_price.plot(kind='bar',color=['purple', 'seagreen', 'skyblue', 'black', 'tomato'])"
      ],
      "metadata": {
        "id": "xuh4WN3EIlGt"
      },
      "execution_count": null,
      "outputs": []
    },
    {
      "cell_type": "markdown",
      "source": [
        "##### 1. Why did you pick the specific chart?"
      ],
      "metadata": {
        "id": "t6dVpIINYklI"
      }
    },
    {
      "cell_type": "markdown",
      "source": [
        "\n",
        "A bar chart is a type of chart that presents categorical data with rectangular bars, where the length of each bar represents the value of the category it represents. Bar charts are commonly used to compare the values of different categories or to show changes over time.\n"
      ],
      "metadata": {
        "id": "5aaW0BYyYklI"
      }
    },
    {
      "cell_type": "markdown",
      "source": [
        "##### 2. What is/are the insight(s) found from the chart?"
      ],
      "metadata": {
        "id": "ijmpgYnKYklI"
      }
    },
    {
      "cell_type": "markdown",
      "source": [
        "\n",
        "*   We can observe that, Manhattan is the city which is in lead in all aspects. Its price for all room_type properties are pretty high when compared to the rest of the cities. Indeed its busy and famous city.\n",
        "\n",
        "\n",
        "*   Already saw that Manhattan is the city which has high price for all the room_type properties. in the second plot,we just tried to fetch a visualization of price with neighbourhood_group alone .\n",
        "\n",
        "*   Manhattan has the highest average price because of the high price entire home or apartments are more there.\n",
        "\n",
        "\n",
        "\n",
        "\n",
        "\n",
        "\n"
      ],
      "metadata": {
        "id": "PSx9atu2YklI"
      }
    },
    {
      "cell_type": "markdown",
      "source": [
        "#### Overall Price distribution throughout NY"
      ],
      "metadata": {
        "id": "EM7whBJCYoAo"
      }
    },
    {
      "cell_type": "code",
      "source": [
        "# Chart - 3 visualization code\n",
        "\n",
        "# Create a figure of size (10,5)\n",
        "plt.figure(figsize=(10,5))\n",
        "\n",
        "# limit x-axis to 0-2000\n",
        "plt.xlim(0,2000)\n",
        "\n",
        "# Labelling x-axis\n",
        "plt.xlabel('Price')\n",
        "\n",
        "# Labelling y-axis\n",
        "plt.ylabel('Records')\n",
        "\n",
        "# Plotting a distribution plot\n",
        "sns.distplot(airbnb_df['price'],bins=10,kde=True)\n",
        "\n",
        "\n",
        "# Show the plot\n",
        "plt.show()\n"
      ],
      "metadata": {
        "id": "t6GMdE67YoAp"
      },
      "execution_count": null,
      "outputs": []
    },
    {
      "cell_type": "markdown",
      "source": [
        "##### 1. Why did you pick the specific chart?"
      ],
      "metadata": {
        "id": "fge-S5ZAYoAp"
      }
    },
    {
      "cell_type": "markdown",
      "source": [
        "\n",
        "Distribution plot allows you to visualize the distribution of a univariate dataset, showing the distribution of observations along with a kernel density estimate (KDE) or histogram."
      ],
      "metadata": {
        "id": "5dBItgRVYoAp"
      }
    },
    {
      "cell_type": "markdown",
      "source": [
        "##### 2. What is/are the insight(s) found from the chart?"
      ],
      "metadata": {
        "id": "85gYPyotYoAp"
      }
    },
    {
      "cell_type": "markdown",
      "source": [
        "\n",
        "\n",
        "*   We can observe that most of the price are in between the range 0 to 250\n",
        "\n",
        "\n"
      ],
      "metadata": {
        "id": "4jstXR6OYoAp"
      }
    },
    {
      "cell_type": "markdown",
      "source": [
        "##### 3. Will the gained insights help creating a positive business impact?\n",
        "Are there any insights that lead to negative growth? Justify with specific reason."
      ],
      "metadata": {
        "id": "RoGjAbkUYoAp"
      }
    },
    {
      "cell_type": "markdown",
      "source": [
        "\n",
        "\n",
        "*   Business can compare the price assigned by hosts and if those properties are not that high until you want to opt for a fancy property with high price.\n",
        "It will helps in increasing the customer satisfaction.\n"
      ],
      "metadata": {
        "id": "zfJ8IqMcYoAp"
      }
    },
    {
      "cell_type": "markdown",
      "source": [
        "#### In search of a famous Host"
      ],
      "metadata": {
        "id": "4Of9eVA-YrdM"
      }
    },
    {
      "cell_type": "code",
      "source": [
        "# Chart - 4 visualization code\n",
        "\n",
        "# Counting the number of unique host id's and selecting the top 20\n",
        "famous_host = airbnb_df[['host_id','host_name']].value_counts().head(20)\n",
        "\n",
        "# Creating a dataframe\n",
        "famous_host = pd.DataFrame(famous_host)\n",
        "famous_host.reset_index(inplace=True)\n",
        "\n",
        "# Changing the column names\n",
        "famous_host.rename(columns={'host_id':'Host_id','count':'count'},inplace=True)\n",
        "famous_host.head(2)\n"
      ],
      "metadata": {
        "id": "irlUoxc8YrdO"
      },
      "execution_count": null,
      "outputs": []
    },
    {
      "cell_type": "code",
      "source": [
        "# Creating a barplot\n",
        "plt1 = sns.barplot(x='Host_id',y='count',data=famous_host,hue='Host_id',color='red')\n",
        "\n",
        "# Rotating the x-axis labels\n",
        "plt1.set_xticklabels(plt1.get_xticklabels(), rotation=90)\n"
      ],
      "metadata": {
        "id": "8Byx_CUrSgpX"
      },
      "execution_count": null,
      "outputs": []
    },
    {
      "cell_type": "code",
      "source": [
        "airbnb_df[airbnb_df['host_id']==219517861][['host_id','room_type','price']]"
      ],
      "metadata": {
        "id": "Wb8PER0BUcy3"
      },
      "execution_count": null,
      "outputs": []
    },
    {
      "cell_type": "markdown",
      "source": [
        "##### 1. Why did you pick the specific chart?"
      ],
      "metadata": {
        "id": "iky9q4vBYrdO"
      }
    },
    {
      "cell_type": "markdown",
      "source": [
        "\n",
        "A bar chart is a type of chart that presents categorical data with rectangular bars, where the length of each bar represents the value of the category it represents.It is suitable for visualizing the different categorical variables"
      ],
      "metadata": {
        "id": "aJRCwT6DYrdO"
      }
    },
    {
      "cell_type": "markdown",
      "source": [
        "##### 2. What is/are the insight(s) found from the chart?"
      ],
      "metadata": {
        "id": "F6T5p64dYrdO"
      }
    },
    {
      "cell_type": "markdown",
      "source": [
        "\n",
        "\n",
        "\n",
        "\n",
        "*   host id : 219517861  is the most busiest host in the sense of host having properties who owns around 327 properties on the airbnb.\n",
        "*   He is offering many properties with almost all as 'Entire_home'.\n",
        "\n",
        "\n",
        "*   He has many properties in Financial Distict which may be more famous or i can say affordable to all. Because we can see the price as well, its reasonable one(not high/not low).\n",
        "*   We can even check that all the properties are available for almost 200+days.\n",
        "\n",
        "\n",
        "\n"
      ],
      "metadata": {
        "id": "Xx8WAJvtYrdO"
      }
    },
    {
      "cell_type": "markdown",
      "source": [
        "#### Average price for room_type throughout NY"
      ],
      "metadata": {
        "id": "bamQiAODYuh1"
      }
    },
    {
      "cell_type": "code",
      "source": [
        "# Chart - 5 visualization code\n",
        "\n",
        "# Calculating the mean price\n",
        "mean_price=airbnb_df.groupby('room_type')['price'].mean()\n",
        "\n",
        "# Plotting a bar plot\n",
        "mean_price.plot(kind='bar',color=['purple', 'seagreen', 'skyblue'])\n",
        "\n",
        "plt.ylabel('mean_price')\n",
        "\n",
        "# Show the plot\n",
        "plt.show()"
      ],
      "metadata": {
        "id": "TIJwrbroYuh3"
      },
      "execution_count": null,
      "outputs": []
    },
    {
      "cell_type": "markdown",
      "source": [
        "##### 1. Why did you pick the specific chart?"
      ],
      "metadata": {
        "id": "QHF8YVU7Yuh3"
      }
    },
    {
      "cell_type": "markdown",
      "source": [
        "\n",
        "A bar chart is a type of chart that presents categorical data with rectangular bars, where the length of each bar represents the value of the category it represents. Bar charts are commonly used to compare the values of different categories or to show changes over time.\n"
      ],
      "metadata": {
        "id": "dcxuIMRPYuh3"
      }
    },
    {
      "cell_type": "markdown",
      "source": [
        "##### 2. What is/are the insight(s) found from the chart?"
      ],
      "metadata": {
        "id": "GwzvFGzlYuh3"
      }
    },
    {
      "cell_type": "markdown",
      "source": [
        "We can see that Entire home/Apt is in demand and it has the price high when compared to private_room/shared_room."
      ],
      "metadata": {
        "id": "uyqkiB8YYuh3"
      }
    },
    {
      "cell_type": "markdown",
      "source": [
        "#### Price vs minimum nights"
      ],
      "metadata": {
        "id": "OH-pJp9IphqM"
      }
    },
    {
      "cell_type": "code",
      "source": [
        "# Chart - 6 visualization code\n",
        "\n",
        "# Create a box plot of price column\n",
        "airbnb_df['price'].plot(kind='box', vert=False, figsize=(15,3))\n",
        "\n",
        "# Show the plot\n",
        "plt.show()\n",
        "\n",
        "# Create a box plot of minimum nights\n",
        "airbnb_df['minimum_nights'].plot(kind='box', vert=False, figsize=(15,3))\n",
        "\n",
        "# Show the plot\n",
        "plt.show()\n",
        "\n",
        "# Create a figure of size (20,6)\n",
        "plt.figure(figsize=[20, 6])\n",
        "\n",
        "# Plotting a scatter plot\n",
        "sns.scatterplot(airbnb_df, x='price',y='minimum_nights',hue='room_type',  color = 'red')\n",
        "\n",
        "# Labelling x-axis\n",
        "plt.xlabel('prices')\n",
        "\n",
        "# Labelling y-axis\n",
        "plt.ylabel('nights spent')\n",
        "\n",
        "# Show the plot\n",
        "plt.show()"
      ],
      "metadata": {
        "id": "kuRf4wtuphqN"
      },
      "execution_count": null,
      "outputs": []
    },
    {
      "cell_type": "markdown",
      "source": [
        "##### 1. Why did you pick the specific chart?"
      ],
      "metadata": {
        "id": "bbFf2-_FphqN"
      }
    },
    {
      "cell_type": "markdown",
      "source": [
        "Scatter plots are useful for visualizing the relationship between two continuous variables and identifying patterns or trends in the data. They can help identify correlations, clusters, outliers, and other important features in the data."
      ],
      "metadata": {
        "id": "loh7H2nzphqN"
      }
    },
    {
      "cell_type": "markdown",
      "source": [
        "##### 2. What is/are the insight(s) found from the chart?"
      ],
      "metadata": {
        "id": "_ouA3fa0phqN"
      }
    },
    {
      "cell_type": "markdown",
      "source": [
        "Shared rooms have comparitively low price than the other two types of rooms.\n",
        "\n",
        "Also minimum nights are low for shared rooms.\n",
        "\n",
        "Mostly entire house/apt has the high price than shared rooms and private rooms.\n",
        "\n",
        "Only one host has the condition of minimum night as around 1000 days in the shared rooms."
      ],
      "metadata": {
        "id": "VECbqPI7phqN"
      }
    },
    {
      "cell_type": "markdown",
      "source": [
        "##### 3. Will the gained insights help creating a positive business impact?\n",
        "Are there any insights that lead to negative growth? Justify with specific reason."
      ],
      "metadata": {
        "id": "Seke61FWphqN"
      }
    },
    {
      "cell_type": "markdown",
      "source": [
        "Customers may be willing to pay more for certain room types even for shorter minimum nights spent.Business can encourage more hosts to come with House/apt and private room this will increase the availability of the most prefferd room types and there by the revenue."
      ],
      "metadata": {
        "id": "DW4_bGpfphqN"
      }
    },
    {
      "cell_type": "markdown",
      "source": [
        "####  Distribution of availability of room vs neighbourhood group"
      ],
      "metadata": {
        "id": "PIIx-8_IphqN"
      }
    },
    {
      "cell_type": "code",
      "source": [
        "# Chart - 7 visualization code\n",
        "\n",
        "# Create a figure of size (10,8)\n",
        "plt.figure(figsize=[10,8])\n",
        "\n",
        "# Create a boxplot\n",
        "sns.boxplot(airbnb_df,x='neighbourhood_group',y='availability_365',hue='neighbourhood_group',palette=\"dark\")\n",
        "\n",
        "# Show the plot\n",
        "plt.show()"
      ],
      "metadata": {
        "id": "lqAIGUfyphqO"
      },
      "execution_count": null,
      "outputs": []
    },
    {
      "cell_type": "markdown",
      "source": [
        "##### 1. Why did you pick the specific chart?"
      ],
      "metadata": {
        "id": "t27r6nlMphqO"
      }
    },
    {
      "cell_type": "markdown",
      "source": [
        "Through the visualization using box plot we can visualize the minimum,maximum and mean values at a time in one visualization also it shows the outliers."
      ],
      "metadata": {
        "id": "iv6ro40sphqO"
      }
    },
    {
      "cell_type": "markdown",
      "source": [
        "##### 2. What is/are the insight(s) found from the chart?"
      ],
      "metadata": {
        "id": "r2jJGEOYphqO"
      }
    },
    {
      "cell_type": "markdown",
      "source": [
        "Some of the neighbourhood showing the minimum value of availability of rooms is zero, this means that those listings are not available. The chance of availability of rooms in staten island a is more than any other neighbourhoods because the mean value is higher than any other neighbourhoods here."
      ],
      "metadata": {
        "id": "Po6ZPi4hphqO"
      }
    },
    {
      "cell_type": "markdown",
      "source": [
        "##### 3. Will the gained insights help creating a positive business impact?\n",
        "Are there any insights that lead to negative growth? Justify with specific reason."
      ],
      "metadata": {
        "id": "b0JNsNcRphqO"
      }
    },
    {
      "cell_type": "markdown",
      "source": [
        "From the visualization we can identify that some of the rooms availability is zero it shows that they are not available, removal of this kind of listings from the business can deliver more accurate data to customres for their selection of listings.The staten island has the mean availability as higher than any other neighbourhoods buisnesses can show this neighbourhood as having most chance to get the stay in their portal/dashboard."
      ],
      "metadata": {
        "id": "xvSq8iUTphqO"
      }
    },
    {
      "cell_type": "markdown",
      "source": [
        "#### Which neighourhood is mostly preffered wrt to reviews per month\n"
      ],
      "metadata": {
        "id": "BZR9WyysphqO"
      }
    },
    {
      "cell_type": "code",
      "source": [
        "# Chart - 8 visualization code\n",
        "\n",
        "# Using group by function and value_counts function finding mostly prefferd neighbourhood\n",
        "df1 = pd.DataFrame(airbnb_df.groupby('neighbourhood_group')['reviews_per_month'].sum())\n",
        "\n",
        "# Plotting a pie chart\n",
        "plt.pie((df1.values).flatten(),labels=df1.index,autopct='%1.1f%%',radius=1.5)\n",
        "\n",
        "# Show the plot\n",
        "plt.show()\n"
      ],
      "metadata": {
        "id": "TdPTWpAVphqO"
      },
      "execution_count": null,
      "outputs": []
    },
    {
      "cell_type": "markdown",
      "source": [
        "##### 1. Why did you pick the specific chart?"
      ],
      "metadata": {
        "id": "jj7wYXLtphqO"
      }
    },
    {
      "cell_type": "markdown",
      "source": [
        "A pie chart can effectively display the relative sizes of different categories or segments in a dataset. Each wedge in the pie represents a proportion of the whole, making it easy to compare the sizes visually. The circular shape and the division into slices make it easy for viewers to grasp the relative proportions.Pie charts work best when there are a limited number of categories or segments to display"
      ],
      "metadata": {
        "id": "Ob8u6rCTphqO"
      }
    },
    {
      "cell_type": "markdown",
      "source": [
        "##### 2. What is/are the insight(s) found from the chart?"
      ],
      "metadata": {
        "id": "eZrbJ2SmphqO"
      }
    },
    {
      "cell_type": "markdown",
      "source": [
        "Manhattan neighbourhood is more preffered neighbourhood.The previous visualization also shows that most revenue generating neighbourhood is also manhattan"
      ],
      "metadata": {
        "id": "mZtgC_hjphqO"
      }
    },
    {
      "cell_type": "markdown",
      "source": [
        "#### Longitude and Latitude"
      ],
      "metadata": {
        "id": "YJ55k-q6phqO"
      }
    },
    {
      "cell_type": "code",
      "source": [
        "# Chart - 9 visualization code\n",
        "\n",
        "# Create a plot of size (10,8)\n",
        "plt.figure(figsize=(10,8))\n",
        "\n",
        "# Visualizing the newyork map from the given data\n",
        "sns.scatterplot(x=airbnb_df.longitude,y=airbnb_df.latitude,hue=airbnb_df.neighbourhood_group)\n",
        "\n",
        "# Show the plot\n",
        "plt.show()"
      ],
      "metadata": {
        "id": "B2aS4O1ophqO"
      },
      "execution_count": null,
      "outputs": []
    },
    {
      "cell_type": "markdown",
      "source": [
        "##### 1. Why did you pick the specific chart?"
      ],
      "metadata": {
        "id": "gCFgpxoyphqP"
      }
    },
    {
      "cell_type": "markdown",
      "source": [
        "Scatter plots are useful for visualizing the relationship between two continuous variables and identifying patterns or trends in the data. They can help identify correlations, clusters, outliers, and other important features in the data."
      ],
      "metadata": {
        "id": "TVxDimi2phqP"
      }
    },
    {
      "cell_type": "markdown",
      "source": [
        "##### 2. What is/are the insight(s) found from the chart?"
      ],
      "metadata": {
        "id": "OVtJsKN_phqQ"
      }
    },
    {
      "cell_type": "markdown",
      "source": [
        "This is the graph showing the map of new york city"
      ],
      "metadata": {
        "id": "ngGi97qjphqQ"
      }
    },
    {
      "cell_type": "markdown",
      "source": [
        "#### Maps with respect to room_types available throughout NY"
      ],
      "metadata": {
        "id": "U2RJ9gkRphqQ"
      }
    },
    {
      "cell_type": "code",
      "source": [
        "# Chart - 10 visualization code\n",
        "\n",
        "# Create a plot of size (10,8)\n",
        "plt.figure(figsize=(10,8))\n",
        "\n",
        "# Visualizing the newyork map from the given data\n",
        "sns.scatterplot(x=airbnb_df.longitude,y=airbnb_df.latitude,hue=airbnb_df.room_type)\n",
        "\n",
        "# Show the plot\n",
        "plt.show()"
      ],
      "metadata": {
        "id": "GM7a4YP4phqQ"
      },
      "execution_count": null,
      "outputs": []
    },
    {
      "cell_type": "markdown",
      "source": [
        "##### 1. Why did you pick the specific chart?"
      ],
      "metadata": {
        "id": "1M8mcRywphqQ"
      }
    },
    {
      "cell_type": "markdown",
      "source": [
        "Scatter plots are useful for visualizing the relationship between two continuous variables and identifying patterns or trends in the data. They can help identify correlations, clusters, outliers, and other important features in the data."
      ],
      "metadata": {
        "id": "8agQvks0phqQ"
      }
    },
    {
      "cell_type": "markdown",
      "source": [
        "##### 2. What is/are the insight(s) found from the chart?"
      ],
      "metadata": {
        "id": "tgIPom80phqQ"
      }
    },
    {
      "cell_type": "markdown",
      "source": [
        "We can see that private rooms and entire home or appartments are more in new york city"
      ],
      "metadata": {
        "id": "Qp13pnNzphqQ"
      }
    },
    {
      "cell_type": "markdown",
      "source": [
        "#### Maps which tells us about the price variation of all available properties"
      ],
      "metadata": {
        "id": "x-EpHcCOp1ci"
      }
    },
    {
      "cell_type": "code",
      "source": [
        "# Chart - 11 visualization code\n",
        "\n",
        "# Create a plot of size (10,8)\n",
        "plt.figure(figsize=(10,8))\n",
        "\n",
        "# Visualizing the newyork map from the given data\n",
        "sns.scatterplot(x=airbnb_df.longitude,y=airbnb_df.latitude,hue=airbnb_df.price)\n",
        "\n",
        "# Show the plot\n",
        "plt.show()\n"
      ],
      "metadata": {
        "id": "mAQTIvtqp1cj"
      },
      "execution_count": null,
      "outputs": []
    },
    {
      "cell_type": "markdown",
      "source": [
        "##### 1. Why did you pick the specific chart?"
      ],
      "metadata": {
        "id": "X_VqEhTip1ck"
      }
    },
    {
      "cell_type": "markdown",
      "source": [
        "Scatter plots are useful for visualizing the relationship between two continuous variables and identifying patterns or trends in the data. They can help identify correlations, clusters, outliers, and other important features in the data."
      ],
      "metadata": {
        "id": "-vsMzt_np1ck"
      }
    },
    {
      "cell_type": "markdown",
      "source": [
        "##### 2. What is/are the insight(s) found from the chart?"
      ],
      "metadata": {
        "id": "8zGJKyg5p1ck"
      }
    },
    {
      "cell_type": "markdown",
      "source": [
        "Most of the rooms have the price below 300 and the we can see the exact location in this map"
      ],
      "metadata": {
        "id": "ZYdMsrqVp1ck"
      }
    },
    {
      "cell_type": "markdown",
      "source": [
        "####  Correlation Heatmap"
      ],
      "metadata": {
        "id": "n3dbpmDWp1ck"
      }
    },
    {
      "cell_type": "code",
      "source": [
        "# Correlation Heatmap visualization code\n",
        "\n",
        "# Caluclating the correlation matrix\n",
        "corr = airbnb_df[['price', 'minimum_nights', 'number_of_reviews',  'availability_365']].corr()\n",
        "\n",
        "# Using seaborn heatmap to create a chart\n",
        "sns.heatmap(corr, cmap='RdBu', fmt='.2f', square=True, linecolor='white', annot=True);\n",
        "\n",
        "# Show the plot\n",
        "plt.show()"
      ],
      "metadata": {
        "id": "bwevp1tKp1ck"
      },
      "execution_count": null,
      "outputs": []
    },
    {
      "cell_type": "markdown",
      "source": [
        "##### 1. Why did you pick the specific chart?"
      ],
      "metadata": {
        "id": "ylSl6qgtp1ck"
      }
    },
    {
      "cell_type": "markdown",
      "source": [
        "Heat map is used to visualize the correlation between variables.It displays the correlation as colour intensity"
      ],
      "metadata": {
        "id": "m2xqNkiQp1ck"
      }
    },
    {
      "cell_type": "markdown",
      "source": [
        "##### 2. What is/are the insight(s) found from the chart?"
      ],
      "metadata": {
        "id": "ZWILFDl5p1ck"
      }
    },
    {
      "cell_type": "markdown",
      "source": [
        "As we can see, the variables do not seem to be significantly correlated to one another."
      ],
      "metadata": {
        "id": "x-lUsV2mp1ck"
      }
    },
    {
      "cell_type": "markdown",
      "source": [
        "##### 3. Will the gained insights help creating a positive business impact?\n",
        "Are there any insights that lead to negative growth? Justify with specific reason."
      ],
      "metadata": {
        "id": "M7G43BXep1ck"
      }
    },
    {
      "cell_type": "markdown",
      "source": [
        "No significant correlation between variables"
      ],
      "metadata": {
        "id": "5wwDJXsLp1cl"
      }
    },
    {
      "cell_type": "markdown",
      "source": [
        "####  Pair Plot"
      ],
      "metadata": {
        "id": "q29F0dvdveiT"
      }
    },
    {
      "cell_type": "code",
      "source": [
        "# Pair Plot visualization code\n",
        "\n",
        "\n",
        "# Pair Plot visualization code\n",
        "sns.pairplot(airbnb_df)"
      ],
      "metadata": {
        "id": "o58-TEIhveiU"
      },
      "execution_count": null,
      "outputs": []
    },
    {
      "cell_type": "markdown",
      "source": [
        "##### 1. Why did you pick the specific chart?"
      ],
      "metadata": {
        "id": "EXh0U9oCveiU"
      }
    },
    {
      "cell_type": "markdown",
      "source": [
        "A pair plot, also known as a scatterplot matrix, is a type of data visualization that displays pairwise relationships among multiple variables in a dataset. It is particularly useful for identifying patterns, correlations, and trends between variables."
      ],
      "metadata": {
        "id": "eMmPjTByveiU"
      }
    },
    {
      "cell_type": "markdown",
      "source": [
        "## **5. Solution to Business Objective**"
      ],
      "metadata": {
        "id": "JcMwzZxoAimU"
      }
    },
    {
      "cell_type": "markdown",
      "source": [
        "#### What do you suggest the client to achieve Business Objective ?\n",
        "Explain Briefly."
      ],
      "metadata": {
        "id": "8G2x9gOozGDZ"
      }
    },
    {
      "cell_type": "markdown",
      "source": [
        "Utilize insights from the analysis of pricing variations across different neighborhoods, property types, and listing characteristics to optimize pricing strategies. This could involve adjusting prices based on demand trends, competitor pricing, and seasonal fluctuations to maximize revenue and occupancy rates.\n",
        "\n",
        "Provide hosts with recommendations and best practices based on the analysis of high-performing listings.\n",
        "\n",
        "Identify opportunities to enhance the customer experience by analyzing guest feedback, reviews, and ratings.\n",
        "\n",
        "Use insights from the analysis of booking trends and guest demographics to inform targeted marketing and promotion efforts."
      ],
      "metadata": {
        "id": "pASKb0qOza21"
      }
    },
    {
      "cell_type": "markdown",
      "source": [
        "# **Conclusion**"
      ],
      "metadata": {
        "id": "gCX9965dhzqZ"
      }
    },
    {
      "cell_type": "markdown",
      "source": [
        "Manhttan being the urban core of New York city, many people across US come to live a descent lifestyle. It has many globally recognised tourist attractions, thus people from around the globe flock into this city. It is also the most expensive places among other neighbourhoods.\n",
        "\n",
        "Brooklyn is both residential and industrial hotspot. Many people around the country and globe comes here in search of employment. It is the second most expensive neighbourhood.\n",
        "\n",
        "Sonder(NYC), Blueground, Michael and David are top 4 most spending customers. Their popular destinations is mainly Manhattan, Brooklyn and Queens.\n",
        "\n",
        "To start a business associated to Airbnb, one should acquire an Entire home/apt in Williamsburg neighbourhood. As, we saw Williamsburg accounts for nearly 8% of the total listings in entire NY city, it implies most days of the year rooms will be booked. And as average price of Entire home/apt is much higher, it might provide high return on investment.\n",
        "\n"
      ],
      "metadata": {
        "id": "Fjb1IsQkh3yE"
      }
    },
    {
      "cell_type": "markdown",
      "source": [
        "### ***Hurrah! You have successfully completed your EDA Capstone Project !!!***"
      ],
      "metadata": {
        "id": "gIfDvo9L0UH2"
      }
    }
  ]
}