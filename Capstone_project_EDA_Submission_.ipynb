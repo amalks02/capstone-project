{
  "nbformat": 4,
  "nbformat_minor": 0,
  "metadata": {
    "colab": {
      "private_outputs": true,
      "provenance": [],
      "collapsed_sections": [
        "mDgbUHAGgjLW",
        "0wOQAZs5pc--",
        "bamQiAODYuh1",
        "PIIx-8_IphqN",
        "JcMwzZxoAimU",
        "gIfDvo9L0UH2"
      ]
    },
    "kernelspec": {
      "name": "python3",
      "display_name": "Python 3"
    },
    "language_info": {
      "name": "python"
    }
  },
  "cells": [
    {
      "cell_type": "markdown",
      "source": [
        "# **Project Name**    - Exploratory Data Analysis on AirBnb Bookings Dataset\n",
        "\n"
      ],
      "metadata": {
        "id": "vncDsAP0Gaoa"
      }
    },
    {
      "cell_type": "markdown",
      "source": [
        "##### **Project Type**    - EDA\n",
        "##### **Contribution**    - Amal ks\n"
      ],
      "metadata": {
        "id": "beRrZCGUAJYm"
      }
    },
    {
      "cell_type": "markdown",
      "source": [
        "# **Project Summary -**"
      ],
      "metadata": {
        "id": "FJNUwmbgGyua"
      }
    },
    {
      "cell_type": "markdown",
      "source": [
        "\n",
        "The Airbnb EDA (Exploratory Data Analysis) project involved analyzing a dataset containing information about Airbnb listings, including various attributes such as location, property type, price, availability, and guest reviews. The goal of the project was to gain insights into the data and provide recommendations to help Airbnb achieve its business objectives.\n",
        "\n",
        "Here's a summary of the key steps and findings from the Airbnb EDA project:\n",
        "\n",
        "* Data Collection: The project started with collecting the Airbnb dataset, which contained information about listings, hosts, and guests. The dataset included features such as listing price, property type, neighborhood, availability, and guest reviews.\n",
        "* Data Cleaning and Preprocessing: This data set contains null values and 0 values in the columns and also some outliers in the continuous variables.\n",
        "Removed 3 columns names id,name and last review because these columns doesn't have not much influence on the analysis process of the dataset.Reviews per month column contains null values we just replaced it with 0 .\n",
        "* Exploratory Data Analysis (EDA): The main focus of the project was on EDA, which involved analyzing the dataset to gain insights into various aspects of Airbnb listings and guest behavior. This included visualizations such as histograms, bar plots, box plots, and scatter plots to explore relationships, distributions, and trends in the data.\n",
        "\n",
        "Following plots are used to evaluate the data\n",
        "* Private rooms are preffered over other rooms- This is analyzed using bar plots.Bar plot is created using sum of the reviews per month in y-axis and room type in x-axis.\n",
        "* Which neighbourhood is generating more revenue wrt room type-We used a stacked bar chart here.In the x-axis we use different neighbourhood groups and in the y-axis used total money for the room types.\n",
        "* Which neighbourhood is mostly preffered wrt reviews per month-Here we used a pie chart to show the percentage owned by the neighbourhoods.\n",
        "* Distribution of availability of room vs neighbourhood group-It is visualized using boxplot.We can see the distribution of avalibilty of rooms in different neighbourhoods using this plot,also it shows the minimum,maximum and mean values also.\n",
        "* Checking correlation between variables-Analyzed correlation between some features using heatmap.\n",
        "* Top 10 busiest hosts wrt reviews per month-Create a bar chart showing that the top 10 busiest hosts with respect to reviews per month,and find the most busiest host.\n",
        "* Price vs minimum nights-Plot a scatter plot of price vs minimum night to understand the spread of the data and plot box plots for price and minimum nights to understand the distribution of the data.\n",
        "\n",
        "Key Insights: Through EDA, several key insights were uncovered, including:\n",
        "\n",
        "Distribution of listing prices across different neighborhoods and property types.\n",
        "\n",
        "Correlations between listing attributes such as price, minimum nights, and availability.\n",
        "Impact of guest reviews and ratings on listing performance and occupancy rates.\n",
        "\n",
        "Recommendations: Based on the insights gained from the EDA, recommendations were provided to Airbnb to help achieve its business objectives. These recommendations included optimizing pricing strategies, improving listing performance, enhancing customer experience, targeting marketing efforts, and expanding inventory and market reach.\n",
        "\n",
        "###conclusion\n",
        "\n",
        "Manhttan being the urban core of New York city, many people across US come to live a descent lifestyle. It has many globally recognised tourist attractions, thus people from around the globe flock into this city. It is also the most expensive places among other neighbourhoods.\n",
        "\n",
        "Brooklyn is both residential and industrial hotspot. Many people around the country and globe comes here in search of employment. It is the second most expensive neighbourhood.\n",
        "\n",
        "Sonder(NYC), Blueground, Michael and David are top 4 most spending customers. Their popular destinations is mainly Manhattan, Brooklyn and Queens.\n",
        "\n",
        "To start a business associated to Airbnb, one should acquire an Entire home/apt in Williamsburg neighbourhood. As, we saw Williamsburg accounts for nearly 8% of the total listings in entire NY city, it implies most days of the year rooms will be booked. And as average price of Entire home/apt is much higher, it might provide high return on investment."
      ],
      "metadata": {
        "id": "F6v_1wHtG2nS"
      }
    },
    {
      "cell_type": "markdown",
      "source": [
        "# **GitHub Link -**"
      ],
      "metadata": {
        "id": "w6K7xa23Elo4"
      }
    },
    {
      "cell_type": "markdown",
      "source": [
        "[link text](https://)"
      ],
      "metadata": {
        "id": "h1o69JH3Eqqn"
      }
    },
    {
      "cell_type": "markdown",
      "source": [
        "# **Problem Statement**\n"
      ],
      "metadata": {
        "id": "yQaldy8SH6Dl"
      }
    },
    {
      "cell_type": "markdown",
      "source": [
        "Since 2008, guests and hosts have used Airbnb to expand on traveling possibilities and present a more unique, personalized way of experiencing the world. Today, Airbnb became one of a kind service that is used and recognized by the whole world. Data analysis on millions of listings provided through Airbnb is a crucial factor for the company. These millions of listings generate a lot of data - data that can be analyzed and used for security, business decisions, understanding of customers' and providers' (hosts) behavior and performance on the platform, guiding marketing initiatives, implementation of innovative additional services and much more.\n",
        "This dataset has around 49,000 observations in it with 16 columns and it is a mix between categorical and numeric values.\n",
        "Explore and analyse the data to discover key understandings.\n"
      ],
      "metadata": {
        "id": "DpeJGUA3kjGy"
      }
    },
    {
      "cell_type": "markdown",
      "source": [
        "#### **Define Your Business Objective?**"
      ],
      "metadata": {
        "id": "PH-0ReGfmX4f"
      }
    },
    {
      "cell_type": "markdown",
      "source": [
        "\n",
        "\n",
        "*    Aims to maximize revenue by attracting more guests to book accommodations and experiences through its platform.\n",
        "*   Providing a seamless and enjoyable experience for both hosts and guests is crucial. This includes ensuring accurate listings, efficient booking processes, and reliable customer support.\n",
        "\n",
        "\n",
        "*   Encouraging hosts to list their properties and engage with guests can help business maintain a diverse range of accommodations and experiences on its platform.\n",
        "\n",
        "\n",
        "\n",
        "\n",
        "\n"
      ],
      "metadata": {
        "id": "PhDvGCAqmjP1"
      }
    },
    {
      "cell_type": "markdown",
      "source": [
        "# **General Guidelines** : -  "
      ],
      "metadata": {
        "id": "mDgbUHAGgjLW"
      }
    },
    {
      "cell_type": "markdown",
      "source": [
        "1.   Well-structured, formatted, and commented code is required.\n",
        "2.   Exception Handling, Production Grade Code & Deployment Ready Code will be a plus. Those students will be awarded some additional credits.\n",
        "     \n",
        "     The additional credits will have advantages over other students during Star Student selection.\n",
        "       \n",
        "             [ Note: - Deployment Ready Code is defined as, the whole .ipynb notebook should be executable in one go\n",
        "                       without a single error logged. ]\n",
        "\n",
        "3.   Each and every logic should have proper comments.\n",
        "4. You may add as many number of charts you want. Make Sure for each and every chart the following format should be answered.\n",
        "        \n",
        "\n",
        "```\n",
        "# Chart visualization code\n",
        "```\n",
        "            \n",
        "\n",
        "*   Why did you pick the specific chart?\n",
        "*   What is/are the insight(s) found from the chart?\n",
        "* Will the gained insights help creating a positive business impact?\n",
        "Are there any insights that lead to negative growth? Justify with specific reason.\n",
        "\n",
        "5. You have to create at least 20 logical & meaningful charts having important insights.\n",
        "\n",
        "\n",
        "[ Hints : - Do the Vizualization in  a structured way while following \"UBM\" Rule.\n",
        "\n",
        "U - Univariate Analysis,\n",
        "\n",
        "B - Bivariate Analysis (Numerical - Categorical, Numerical - Numerical, Categorical - Categorical)\n",
        "\n",
        "M - Multivariate Analysis\n",
        " ]\n",
        "\n",
        "\n",
        "\n"
      ],
      "metadata": {
        "id": "ZrxVaUj-hHfC"
      }
    },
    {
      "cell_type": "markdown",
      "source": [
        "# ***Let's Begin !***"
      ],
      "metadata": {
        "id": "O_i_v8NEhb9l"
      }
    },
    {
      "cell_type": "markdown",
      "source": [
        "## ***1. Know Your Data***"
      ],
      "metadata": {
        "id": "HhfV-JJviCcP"
      }
    },
    {
      "cell_type": "markdown",
      "source": [
        "### Import Libraries"
      ],
      "metadata": {
        "id": "Y3lxredqlCYt"
      }
    },
    {
      "cell_type": "code",
      "source": [
        "# Import Libraries\n",
        "import pandas as pd\n",
        "import numpy as np\n",
        "import matplotlib.pyplot as plt\n",
        "import seaborn as sns"
      ],
      "metadata": {
        "id": "M8Vqi-pPk-HR"
      },
      "execution_count": null,
      "outputs": []
    },
    {
      "cell_type": "markdown",
      "source": [
        "### Dataset Loading"
      ],
      "metadata": {
        "id": "3RnN4peoiCZX"
      }
    },
    {
      "cell_type": "code",
      "source": [
        "# Load Dataset\n",
        "# File path to Airbnb NYC 2019 csv file\n",
        "file_path = '/content/Airbnb NYC 2019.csv'\n",
        "\n",
        "# Reading the csv file using pandas read_csv\n",
        "airbnb_df = pd.read_csv(file_path)\n"
      ],
      "metadata": {
        "id": "4CkvbW_SlZ_R"
      },
      "execution_count": null,
      "outputs": []
    },
    {
      "cell_type": "markdown",
      "source": [
        "### Dataset First View"
      ],
      "metadata": {
        "id": "x71ZqKXriCWQ"
      }
    },
    {
      "cell_type": "code",
      "source": [
        "# Dataset First Look\n",
        "\n",
        "# Dataset first 5 rows\n",
        "print('First 5 rows of Airbnb booking NYC dataset : ')\n",
        "airbnb_df.head()"
      ],
      "metadata": {
        "id": "LWNFOSvLl09H"
      },
      "execution_count": null,
      "outputs": []
    },
    {
      "cell_type": "markdown",
      "source": [
        "### Dataset Rows & Columns count"
      ],
      "metadata": {
        "id": "7hBIi_osiCS2"
      }
    },
    {
      "cell_type": "code",
      "source": [
        "# Dataset Rows & Columns count\n",
        "\n",
        "# Displaying the Rows & Columns count using pandas shape method\n",
        "print(f'Air bnb NYC 2019 dataset has {airbnb_df.shape[0]} rows and {airbnb_df.shape[1]} columns')"
      ],
      "metadata": {
        "id": "Kllu7SJgmLij"
      },
      "execution_count": null,
      "outputs": []
    },
    {
      "cell_type": "markdown",
      "source": [
        "### Dataset Information"
      ],
      "metadata": {
        "id": "JlHwYmJAmNHm"
      }
    },
    {
      "cell_type": "code",
      "source": [
        "# Dataset Info\n",
        "\n",
        "# Displaying the column names corresponding data type of the column and non null count using pandas info method\n",
        "airbnb_df.info()\n"
      ],
      "metadata": {
        "id": "e9hRXRi6meOf"
      },
      "execution_count": null,
      "outputs": []
    },
    {
      "cell_type": "markdown",
      "source": [
        "#### Duplicate Values"
      ],
      "metadata": {
        "id": "35m5QtbWiB9F"
      }
    },
    {
      "cell_type": "code",
      "source": [
        "# Dataset Duplicate Value Count\n",
        "\n",
        "# Checking for the count of duplicate values using pandas duplicated method and finding total count of duplicates using sum method\n",
        "print(f'Total number of duplicate rows in the dataset is : {airbnb_df.duplicated().sum()}')\n"
      ],
      "metadata": {
        "id": "1sLdpKYkmox0"
      },
      "execution_count": null,
      "outputs": []
    },
    {
      "cell_type": "markdown",
      "source": [
        "#### Missing Values/Null Values"
      ],
      "metadata": {
        "id": "PoPl-ycgm1ru"
      }
    },
    {
      "cell_type": "code",
      "source": [
        "# Missing Values/Null Values Count\n",
        "\n",
        "# Finding total number of  Misiing values/Null values in dataset using isnull  and sum functions in series\n",
        "print(f'Total number of Missing/Null values in each column of the dataset is : \\n{airbnb_df.isnull().sum()}')"
      ],
      "metadata": {
        "id": "GgHWkxvamxVg"
      },
      "execution_count": null,
      "outputs": []
    },
    {
      "cell_type": "code",
      "source": [
        "# Visualizing the missing values\n",
        "\n",
        "# Calculates the number of missing values for each feature in the dataset and stores the result in the missing_values variable\n",
        "\n",
        "missing_values = airbnb_df.isnull().sum()\n",
        "\n",
        "# Plot missing values\n",
        "\n",
        "# Creating a plot of figure size (10,6)\n",
        "plt.figure(figsize=(10, 6))\n",
        "\n",
        "# Using barplot from seaborn library  and assigning X-axis as the column names and Y-axis as the no.of null values\n",
        "sns.barplot(x=missing_values.index, y=missing_values.values, palette='viridis')\n",
        "\n",
        "# Adjusting the X-axis label\n",
        "plt.xticks(rotation=90)\n",
        "\n",
        "# Defining X-label as Features\n",
        "plt.xlabel('Features')\n",
        "\n",
        "# Defining Y-label as Number of Missing values\n",
        "plt.ylabel('Number of Missing Values')\n",
        "\n",
        "# Defining title of the plot\n",
        "plt.title('Missing Values in Airbnb Dataset')\n",
        "\n",
        "plt.show()\n",
        "\n"
      ],
      "metadata": {
        "id": "3q5wnI3om9sJ"
      },
      "execution_count": null,
      "outputs": []
    },
    {
      "cell_type": "markdown",
      "source": [
        "### What did you know about your dataset?"
      ],
      "metadata": {
        "id": "H0kj-8xxnORC"
      }
    },
    {
      "cell_type": "markdown",
      "source": [
        "The Airbnb Dataset has 16 columns and 48895 rows. In that 16 columns 7 columns(id,host_id,price, minimum_nights,number_of_reviews,calculated_host_listings_count,availability_365) are containing the data in type of int64, 3 columns(latitude,longitude,reviews_per_month) are containing the data in type of float64 and 6 columns(name, host_name,neighbourhood_group,neighbourhood,room_type,last_review) are in the type of objects. The id column represents the unique id of each listings , host_id column represents the unique id of each hosts. Number of duplicate rows in this dataset is 0. Four columns containing null/missing values. Column 'name' containing 16 null values ,'host_name containing 21 null values, last_review and reviews_per_month containing 10052 null values respectively.\n",
        "                           \n",
        "             \n",
        "  "
      ],
      "metadata": {
        "id": "gfoNAAC-nUe_"
      }
    },
    {
      "cell_type": "markdown",
      "source": [
        "## ***2. Understanding Your Variables***"
      ],
      "metadata": {
        "id": "nA9Y7ga8ng1Z"
      }
    },
    {
      "cell_type": "code",
      "source": [
        "# Dataset Columns\n",
        "\n",
        "# Column names of the dataset is\n",
        "print(f'Column names of the dataset is : \\n{airbnb_df.columns}')"
      ],
      "metadata": {
        "id": "j7xfkqrt5Ag5"
      },
      "execution_count": null,
      "outputs": []
    },
    {
      "cell_type": "code",
      "source": [
        "# Dataset Describe\n",
        "\n",
        "airbnb_df.describe()"
      ],
      "metadata": {
        "id": "DnOaZdaE5Q5t"
      },
      "execution_count": null,
      "outputs": []
    },
    {
      "cell_type": "markdown",
      "source": [
        "### Variables Description"
      ],
      "metadata": {
        "id": "PBTbrJXOngz2"
      }
    },
    {
      "cell_type": "markdown",
      "source": [
        "The dataset has 16 features. On these features Price feature has a minimum value as 0 this is may be wrong because there is no chance of host giving their property for free. Also the availability_365 column has a minimum value of 0 , this is not possible. These values are may be appeared in the dataset due to incorrect data entry or incorrect way of pulling the data. The price column has maximum value of 10000 and also the mean of the price column is 149.571777, the value showing that this is an outlier in the price column ."
      ],
      "metadata": {
        "id": "aJV4KIxSnxay"
      }
    },
    {
      "cell_type": "markdown",
      "source": [
        "### Check Unique Values for each variable."
      ],
      "metadata": {
        "id": "u3PMJOP6ngxN"
      }
    },
    {
      "cell_type": "code",
      "source": [
        "# Check Unique Values for each variable.\n",
        "\n",
        "# Iterate over each column in the DataFrame\n",
        "for column in airbnb_df.columns:\n",
        "\n",
        "  # Print the column name and the no.of unique values for the column\n",
        "  print(f\"No.of Unique values for the column '{column}' is : {len(airbnb_df[column].unique())}\")\n",
        "\n",
        "  # Add an empty line for better readability\n",
        "  print()"
      ],
      "metadata": {
        "id": "zms12Yq5n-jE"
      },
      "execution_count": null,
      "outputs": []
    },
    {
      "cell_type": "markdown",
      "source": [
        "## 3. ***Data Wrangling***"
      ],
      "metadata": {
        "id": "dauF4eBmngu3"
      }
    },
    {
      "cell_type": "markdown",
      "source": [
        "### Data Wrangling Code"
      ],
      "metadata": {
        "id": "bKJF3rekwFvQ"
      }
    },
    {
      "cell_type": "code",
      "source": [
        "# Write your code to make your dataset analysis ready.\n",
        "\n",
        "# Create a function called data_wrangler()\n",
        "def data_wrangler(airbnb_df):\n",
        "\n",
        "  # Removing the rows of the column host_name and name\n",
        "  airbnb_df.dropna(axis=0,subset=['host_name'],inplace=True)\n",
        "\n",
        "  # Replace the null/missing values in the columns reviews_per_month with 0\n",
        "  airbnb_df.fillna({'reviews_per_month':0},inplace=True)\n",
        "\n",
        "  # Dropping id and name column from the dataset\n",
        "  airbnb_df.drop(['name','id','last_review'],axis=1,inplace=True)\n",
        "\n",
        "  return airbnb_df\n",
        "\n",
        "airbnb_df=data_wrangler(airbnb_df)"
      ],
      "metadata": {
        "id": "wk-9a2fpoLcV"
      },
      "execution_count": null,
      "outputs": []
    },
    {
      "cell_type": "markdown",
      "source": [
        "### What all manipulations have you done and insights you found?"
      ],
      "metadata": {
        "id": "MSa1f5Uengrz"
      }
    },
    {
      "cell_type": "markdown",
      "source": [
        "\n",
        "Manipulations done on the dataset\n",
        "*   Removed rows of the column host_name and name which has null value.\n",
        "*   Replaced the null/missing values in the columns reviews_per_month with 0.\n",
        "\n",
        "*   Removed id ,last_review and name column from the dataset\n",
        "\n",
        "Insights found\n",
        "\n",
        "\n",
        "*   id,name and last_review columns are objective and id column containig  unique values these columns havent any effect on the analysis\n",
        "*   Price column contains 16 rows as zero this is a small amount compared to the actual no.of rows, this also doesn't affect our data analysis process\n",
        "\n",
        "\n",
        "\n",
        "\n",
        "\n",
        "\n",
        "\n",
        "\n",
        "\n",
        "\n"
      ],
      "metadata": {
        "id": "LbyXE7I1olp8"
      }
    },
    {
      "cell_type": "markdown",
      "source": [
        "## ***4. Data Vizualization, Storytelling & Experimenting with charts : Understand the relationships between variables***"
      ],
      "metadata": {
        "id": "GF8Ens_Soomf"
      }
    },
    {
      "cell_type": "markdown",
      "source": [
        "### 1. Are private rooms are preffered over other rooms using reviews per month"
      ],
      "metadata": {
        "id": "0wOQAZs5pc--"
      }
    },
    {
      "cell_type": "code",
      "source": [
        "# Chart - 1 visualization code\n",
        "\n",
        "# Group by room type and counting the occurences\n",
        "count_wrt_roomtype=airbnb_df.groupby('room_type')['reviews_per_month'].sum()\n",
        "\n",
        "# Create barplot\n",
        "barplot=sns.barplot(count_wrt_roomtype,palette={'Entire home/apt':'green','Private room':'red','Shared room':'blue'})\n",
        "\n",
        "# Adding labels above the bars\n",
        "for index, value in enumerate(count_wrt_roomtype):\n",
        "    barplot.text(index, value, str(value), ha='center', va='bottom')\n",
        "\n",
        "# Show plot\n",
        "plt.show()\n",
        "\n"
      ],
      "metadata": {
        "id": "7v_ESjsspbW7"
      },
      "execution_count": null,
      "outputs": []
    },
    {
      "cell_type": "markdown",
      "source": [
        "##### 1. Why did you pick the specific chart?"
      ],
      "metadata": {
        "id": "K5QZ13OEpz2H"
      }
    },
    {
      "cell_type": "markdown",
      "source": [
        "A barplot is suitable for visualizing count of the different categories, such as the count of each room type in this case.Bar plots are simple , making them easy to understand for most viewers.Bar plots can be easily customized to add additional information, such as labels above the bars as requested. They also support different color palettes and styling options to enhance visual appeal and convey additional meaning."
      ],
      "metadata": {
        "id": "XESiWehPqBRc"
      }
    },
    {
      "cell_type": "markdown",
      "source": [
        "##### 2. What is/are the insight(s) found from the chart?"
      ],
      "metadata": {
        "id": "lQ7QKXXCp7Bj"
      }
    },
    {
      "cell_type": "markdown",
      "source": [
        "Most common room type in the among the listings is \"Entire home/apt.Least prefferd room type in the listings is \"Shared room\".The length of the bars in the above plot allows us to compare the choice of room type easily."
      ],
      "metadata": {
        "id": "C_j1G7yiqdRP"
      }
    },
    {
      "cell_type": "markdown",
      "source": [
        "##### 3. Will the gained insights help creating a positive business impact?\n",
        "Are there any insights that lead to negative growth? Justify with specific reason."
      ],
      "metadata": {
        "id": "448CDAPjqfQr"
      }
    },
    {
      "cell_type": "markdown",
      "source": [
        "Peoples are mostly preffered Entire home/apt and private rooms over shared rooms.Entire home/apt\" is the most common room type, marketing campaigns can be designed to highlight the features and benefits of such accommodations to attract more customers.Businesses can allocate resources and prioritize listings based on the demand for each room type. This can help ensure that popular room types are adequately stocked and available to meet customer demand.By understanding customer preferences for different room types, businesses can tailor their offerings to better meet customer needs and preferences. This can lead to higher customer satisfaction and loyalty, ultimately contributing to a positive business impact."
      ],
      "metadata": {
        "id": "3cspy4FjqxJW"
      }
    },
    {
      "cell_type": "markdown",
      "source": [
        "### 2. Which neighbourood is generating more revenue with respect to the room type"
      ],
      "metadata": {
        "id": "KSlN3yHqYklG"
      }
    },
    {
      "cell_type": "markdown",
      "source": [
        "##### 1. Why did you pick the specific chart?"
      ],
      "metadata": {
        "id": "t6dVpIINYklI"
      }
    },
    {
      "cell_type": "markdown",
      "source": [
        "A stacked bar chart is most suitable for visualizing the values of one variable based on two categories at once.Here price is the continuous variable and neighbourhood group and room type are the two categorical variables"
      ],
      "metadata": {
        "id": "5aaW0BYyYklI"
      }
    },
    {
      "cell_type": "code",
      "source": [
        "# Chart - 2 visualization code\n",
        "\n",
        "#  Create dataframe to show total money spent on each neighbourhood_group wrt room_types\n",
        "df1 = pd.DataFrame(airbnb_df.groupby(['neighbourhood_group', 'room_type'])['price'].sum())\n",
        "\n",
        "# Create a table from the dataframe\n",
        "table = pd.pivot_table(df1, index = ['neighbourhood_group'], columns = ['room_type'], values = 'price')\n",
        "\n",
        "# Plot a stacked bar chart\n",
        "table.plot(kind='bar',ylabel='Total money spent',stacked=True,figsize=[12,6])\n",
        "\n",
        "# Giving title to the chart\n",
        "plt.title('Money spent on each neighbourhood wrt room type')\n",
        "\n",
        "# Show the plot\n",
        "plt.show()"
      ],
      "metadata": {
        "id": "R4YgtaqtYklH"
      },
      "execution_count": null,
      "outputs": []
    },
    {
      "cell_type": "markdown",
      "source": [
        "##### 2. What is/are the insight(s) found from the chart?"
      ],
      "metadata": {
        "id": "ijmpgYnKYklI"
      }
    },
    {
      "cell_type": "markdown",
      "source": [
        "Entire home/apt is the most preferred choice and thus accounts for the most money spent across every neighbourhood group, followed by Private room and Shared room respectively.Mostly the money spent in Manhattan, followed by Brooklyn, Queens, Bronx and Staten Island respectively."
      ],
      "metadata": {
        "id": "PSx9atu2YklI"
      }
    },
    {
      "cell_type": "markdown",
      "source": [
        "##### 3. Will the gained insights help creating a positive business impact?\n",
        "Are there any insights that lead to negative growth? Justify with specific reason."
      ],
      "metadata": {
        "id": "-JiQyfWJYklI"
      }
    },
    {
      "cell_type": "markdown",
      "source": [
        "People choose manhattan and brooklyn neighbourhoods mostly.By understanding the prefference and popularity of room type and neighbourhood businesses can promote those neighbourhoods more and can tailor more offerings there.This can lead to more customer satisfaction and lead to a positive business impact."
      ],
      "metadata": {
        "id": "BcBbebzrYklV"
      }
    },
    {
      "cell_type": "markdown",
      "source": [
        "### 3. Which neighourhood is mostly preffered wrt to reviews per month"
      ],
      "metadata": {
        "id": "EM7whBJCYoAo"
      }
    },
    {
      "cell_type": "code",
      "source": [
        "# Chart - 3 visualization code\n",
        "\n",
        "# Using group by function and value_counts function finding mostly prefferd neighbourhood\n",
        "df1 = pd.DataFrame(airbnb_df.groupby('neighbourhood_group')['reviews_per_month'].sum())\n",
        "\n",
        "# Plotting a pie chart\n",
        "plt.pie((df1.values).flatten(),labels=df1.index,autopct='%1.1f%%',explode=(.1,0,0,0,0),radius=1.5)\n",
        "\n",
        "# Show the plot\n",
        "plt.show()"
      ],
      "metadata": {
        "id": "t6GMdE67YoAp"
      },
      "execution_count": null,
      "outputs": []
    },
    {
      "cell_type": "markdown",
      "source": [
        "##### 1. Why did you pick the specific chart?"
      ],
      "metadata": {
        "id": "fge-S5ZAYoAp"
      }
    },
    {
      "cell_type": "markdown",
      "source": [
        "A pie chart can effectively display the relative sizes of different categories or segments in a dataset. Each wedge in the pie represents a proportion of the whole, making it easy to compare the sizes visually. The circular shape and the division into slices make it easy for viewers to grasp the relative proportions.Pie charts work best when there are a limited number of categories or segments to display"
      ],
      "metadata": {
        "id": "5dBItgRVYoAp"
      }
    },
    {
      "cell_type": "markdown",
      "source": [
        "##### 2. What is/are the insight(s) found from the chart?"
      ],
      "metadata": {
        "id": "85gYPyotYoAp"
      }
    },
    {
      "cell_type": "markdown",
      "source": [
        "Manhattan neighbourhood is more preffered neighbourhood.The previous visualization also shows that most revenue generating neighbourhood is also manhattan"
      ],
      "metadata": {
        "id": "4jstXR6OYoAp"
      }
    },
    {
      "cell_type": "markdown",
      "source": [
        "##### 3. Will the gained insights help creating a positive business impact?\n",
        "Are there any insights that lead to negative growth? Justify with specific reason."
      ],
      "metadata": {
        "id": "RoGjAbkUYoAp"
      }
    },
    {
      "cell_type": "markdown",
      "source": [
        "\n",
        "\n",
        "Manhattan is the urban core of New York city. It is also economic powerhouse of the city. Many globally famous tourist attraction are present like Empire State Building, Statue of Liberty and Central Park. Thus, many people from around the globe flock here to experience the American richness and culture. From our analysis, we can see that many people spend most time in this neighbourhood group for various reasons. They most likely spend most of their money in Manhattan rather than other neighbourhood group.\n",
        "\n",
        "Brooklyn is both residential and industrial and also handles a vast amount of oceangoing traffic. It too have few tourist attractions like Brooklyn museum and Coney Island. Many people comes to this neighbourhood group mainly because of industries.\n",
        "\n",
        "Queens is less visited neighbourhood group, followed by Bronx and Staten Island respectively."
      ],
      "metadata": {
        "id": "h9LCZA1Cr0eM"
      }
    },
    {
      "cell_type": "markdown",
      "source": [
        "### 4. Distribution of availability of room vs neighbourhood group\n"
      ],
      "metadata": {
        "id": "4Of9eVA-YrdM"
      }
    },
    {
      "cell_type": "code",
      "source": [
        "# Chart - 4 visualization code\n",
        "\n",
        "# Create a figure of size (10,8)\n",
        "plt.figure(figsize=[10,8])\n",
        "\n",
        "# Create a boxplot\n",
        "sns.boxplot(airbnb_df,x='neighbourhood_group',y='availability_365',hue='neighbourhood_group',palette=\"dark\")\n",
        "\n",
        "# Show the plot\n",
        "plt.show()"
      ],
      "metadata": {
        "id": "irlUoxc8YrdO"
      },
      "execution_count": null,
      "outputs": []
    },
    {
      "cell_type": "markdown",
      "source": [
        "##### 1. Why did you pick the specific chart?"
      ],
      "metadata": {
        "id": "iky9q4vBYrdO"
      }
    },
    {
      "cell_type": "markdown",
      "source": [
        "Through the visualization using box plot we can visualize the minimum,maximum and mean values at a time in one visualization also it shows the outliers."
      ],
      "metadata": {
        "id": "aJRCwT6DYrdO"
      }
    },
    {
      "cell_type": "markdown",
      "source": [
        "##### 2. What is/are the insight(s) found from the chart?"
      ],
      "metadata": {
        "id": "F6T5p64dYrdO"
      }
    },
    {
      "cell_type": "markdown",
      "source": [
        "Some of the neighbourhood showing the minimum value of availability of rooms is zero, this means that those listings are not available. The chance of availability of rooms in staten island a is more than any other neighbourhoods because the mean value is higher than any other neighbourhoods here."
      ],
      "metadata": {
        "id": "Xx8WAJvtYrdO"
      }
    },
    {
      "cell_type": "markdown",
      "source": [
        "##### 3. Will the gained insights help creating a positive business impact?\n",
        "Are there any insights that lead to negative growth? Justify with specific reason."
      ],
      "metadata": {
        "id": "y-Ehk30pYrdP"
      }
    },
    {
      "cell_type": "markdown",
      "source": [
        "From the visualization we can identify that some of the rooms availability is zero it shows that they are not available, removal of this kind of listings from the business can deliver more accurate data to customres for their selection of listings.The staten island has the mean availability as higher than any other neighbourhoods buisnesses can show this neighbourhood as having most chance to get the stay in their portal/dashboard."
      ],
      "metadata": {
        "id": "jLNxxz7MYrdP"
      }
    },
    {
      "cell_type": "markdown",
      "source": [
        "### 5. Checking correlation between variables"
      ],
      "metadata": {
        "id": "bamQiAODYuh1"
      }
    },
    {
      "cell_type": "code",
      "source": [
        "# Chart - 5 visualization code\n",
        "\n",
        "# Caluclating the correlation matrix\n",
        "corr = airbnb_df[['price', 'minimum_nights', 'number_of_reviews', 'calculated_host_listings_count', 'availability_365']].corr()\n",
        "\n",
        "# Using seaborn heatmap to create a chart\n",
        "sns.heatmap(corr, cmap='RdBu', fmt='.2f', square=True, linecolor='white', annot=True);\n",
        "\n",
        "# Show the plot\n",
        "plt.show()"
      ],
      "metadata": {
        "id": "TIJwrbroYuh3"
      },
      "execution_count": null,
      "outputs": []
    },
    {
      "cell_type": "markdown",
      "source": [
        "##### 1. Why did you pick the specific chart?"
      ],
      "metadata": {
        "id": "QHF8YVU7Yuh3"
      }
    },
    {
      "cell_type": "markdown",
      "source": [
        "Heat map is used to visualize the correlation between variables.It displays the correlation as colour intensity"
      ],
      "metadata": {
        "id": "dcxuIMRPYuh3"
      }
    },
    {
      "cell_type": "markdown",
      "source": [
        "##### 2. What is/are the insight(s) found from the chart?"
      ],
      "metadata": {
        "id": "GwzvFGzlYuh3"
      }
    },
    {
      "cell_type": "markdown",
      "source": [
        "As we can see, the variables do not seem to be significantly correlated to one another."
      ],
      "metadata": {
        "id": "uyqkiB8YYuh3"
      }
    },
    {
      "cell_type": "markdown",
      "source": [
        "##### 3. Will the gained insights help creating a positive business impact?\n",
        "Are there any insights that lead to negative growth? Justify with specific reason."
      ],
      "metadata": {
        "id": "qYpmQ266Yuh3"
      }
    },
    {
      "cell_type": "markdown",
      "source": [
        "No significant correlation between variables"
      ],
      "metadata": {
        "id": "_WtzZ_hCYuh4"
      }
    },
    {
      "cell_type": "markdown",
      "source": [
        "### 6. Top 10 busiest hosts wrt reviews per month"
      ],
      "metadata": {
        "id": "OH-pJp9IphqM"
      }
    },
    {
      "cell_type": "code",
      "source": [
        "# Chart - 6 visualization code\n",
        "\n",
        "# Finding sum of reviews per month for host id by using groupby and sum functions\n",
        "data=airbnb_df.groupby(['host_id'])['reviews_per_month'].sum().sort_values(ascending=False).head(10)\n",
        "\n",
        "# Creating a figure of size (10,8)\n",
        "plt.figure(figsize=[10,8])\n",
        "\n",
        "# Plotting the bar plot\n",
        "data.plot(kind='bar',ylabel='reviews per month for a host',color = ['firebrick', 'green', 'blue', 'black', 'red','purple', 'seagreen', 'skyblue', 'black', 'tomato'])"
      ],
      "metadata": {
        "id": "kuRf4wtuphqN"
      },
      "execution_count": null,
      "outputs": []
    },
    {
      "cell_type": "markdown",
      "source": [
        "##### 1. Why did you pick the specific chart?"
      ],
      "metadata": {
        "id": "bbFf2-_FphqN"
      }
    },
    {
      "cell_type": "markdown",
      "source": [
        "A barplot is suitable for visualizing count of the different categories, such as the count of each room type in this case.Bar plots are simple , making them easy to understand for most viewers.Bar plots can be easily customized to add additional information, such as labels above the bars as requested. They also support different color palettes and styling options to enhance visual appeal and convey additional meaning."
      ],
      "metadata": {
        "id": "loh7H2nzphqN"
      }
    },
    {
      "cell_type": "markdown",
      "source": [
        "##### 2. What is/are the insight(s) found from the chart?"
      ],
      "metadata": {
        "id": "_ouA3fa0phqN"
      }
    },
    {
      "cell_type": "markdown",
      "source": [
        "The above chart showing that the top 10 busiest hosts with respect to reviews per month.It shows that host id : 219517861 is the most busiest host.These hosts get busy may be because of their affordable pricing,Good service and The location it situated is most famous for tourism."
      ],
      "metadata": {
        "id": "VECbqPI7phqN"
      }
    },
    {
      "cell_type": "markdown",
      "source": [
        "##### 3. Will the gained insights help creating a positive business impact?\n",
        "Are there any insights that lead to negative growth? Justify with specific reason."
      ],
      "metadata": {
        "id": "Seke61FWphqN"
      }
    },
    {
      "cell_type": "markdown",
      "source": [
        "Other hosts can change their approach in the service or other customer satifaction methods.Business can promote these busiest hosts to their customers with high confidence for booking, because of these stats.\n",
        "Business can classify hosts according to their quality based on this stat.This will help customers to reach their hosts without spending more time on the site."
      ],
      "metadata": {
        "id": "DW4_bGpfphqN"
      }
    },
    {
      "cell_type": "markdown",
      "source": [
        "### 7. Price vs minimum nights"
      ],
      "metadata": {
        "id": "PIIx-8_IphqN"
      }
    },
    {
      "cell_type": "code",
      "source": [
        "# Chart - 7 visualization code\n",
        "\n",
        "# Create a box plot of price column\n",
        "airbnb_df['price'].plot(kind='box', vert=False, figsize=(15,3))\n",
        "\n",
        "# Show the plot\n",
        "plt.show()\n",
        "\n",
        "# Create a box plot of minimum nights\n",
        "airbnb_df['minimum_nights'].plot(kind='box', vert=False, figsize=(15,3))\n",
        "\n",
        "# Show the plot\n",
        "plt.show()\n",
        "\n",
        "# Create a figure of size (20,6)\n",
        "plt.figure(figsize=[20, 6])\n",
        "\n",
        "# Plotting a scatter plot\n",
        "sns.scatterplot(airbnb_df, x='price',y='minimum_nights',hue='room_type',  color = 'red')\n",
        "\n",
        "# Labelling x-axis\n",
        "plt.xlabel('prices')\n",
        "\n",
        "# Labelling y-axis\n",
        "plt.ylabel('nights spent')\n",
        "\n",
        "# Show the plot\n",
        "plt.show()"
      ],
      "metadata": {
        "id": "lqAIGUfyphqO"
      },
      "execution_count": null,
      "outputs": []
    },
    {
      "cell_type": "markdown",
      "source": [
        "##### 1. Why did you pick the specific chart?"
      ],
      "metadata": {
        "id": "t27r6nlMphqO"
      }
    },
    {
      "cell_type": "markdown",
      "source": [
        "Scatter plot is often used to visualize the relationship between two continuous variables. It's particularly useful for identifying patterns, trends, and outliers in the data."
      ],
      "metadata": {
        "id": "iv6ro40sphqO"
      }
    },
    {
      "cell_type": "markdown",
      "source": [
        "##### 2. What is/are the insight(s) found from the chart?"
      ],
      "metadata": {
        "id": "r2jJGEOYphqO"
      }
    },
    {
      "cell_type": "markdown",
      "source": [
        "*    Most nights spent are for rooms having prices below 2000.\n",
        "*  Very few nights are spent for room with price over 2000.\n",
        "\n",
        "*   It is also quite logical that people living in highly expensive accomodation might not stay for good number of days.\n",
        "*   Shared rooms have comparitively low price than the other two types of rooms.\n",
        "\n",
        "*   Also minimum nights are low for shared rooms.\n",
        "*   Mostly entire house/apt has the high price than shared rooms and private rooms.\n",
        "\n",
        "*   Only one host has the condition of minimum night as\n",
        "around 1000 days in the shared rooms.\n"
      ],
      "metadata": {
        "id": "Po6ZPi4hphqO"
      }
    },
    {
      "cell_type": "markdown",
      "source": [
        "##### 3. Will the gained insights help creating a positive business impact?\n",
        "Are there any insights that lead to negative growth? Justify with specific reason."
      ],
      "metadata": {
        "id": "b0JNsNcRphqO"
      }
    },
    {
      "cell_type": "markdown",
      "source": [
        "Customers may be willing to pay more for certain room types even for shorter minimum nights spent.Business can encourage more hosts to come with House/apt and private room this will increase the availability of the most prefferd room types and there by the revenue."
      ],
      "metadata": {
        "id": "xvSq8iUTphqO"
      }
    },
    {
      "cell_type": "markdown",
      "source": [
        "## **5. Solution to Business Objective**"
      ],
      "metadata": {
        "id": "JcMwzZxoAimU"
      }
    },
    {
      "cell_type": "markdown",
      "source": [
        "#### What do you suggest the client to achieve Business Objective ?\n",
        "Explain Briefly."
      ],
      "metadata": {
        "id": "8G2x9gOozGDZ"
      }
    },
    {
      "cell_type": "markdown",
      "source": [
        "\n",
        "\n",
        "*   Utilize insights from the analysis of pricing variations across different neighborhoods, property types, and listing characteristics to optimize pricing strategies. This could involve adjusting prices based on demand trends, competitor pricing, and seasonal fluctuations to maximize revenue and occupancy rates.\n",
        "*   Provide hosts with recommendations and best practices based on the analysis of high-performing listings.\n",
        "\n",
        "*   Identify opportunities to enhance the customer experience by analyzing guest feedback, reviews, and ratings.\n",
        "*    Use insights from the analysis of booking trends and guest demographics to inform targeted marketing and promotion efforts.\n",
        "\n",
        "\n",
        "\n",
        "\n",
        "\n",
        "\n",
        "\n"
      ],
      "metadata": {
        "id": "pASKb0qOza21"
      }
    },
    {
      "cell_type": "markdown",
      "source": [
        "# **Conclusion**"
      ],
      "metadata": {
        "id": "gCX9965dhzqZ"
      }
    },
    {
      "cell_type": "markdown",
      "source": [
        "Manhttan being the urban core of New York city, many people across US come to live a descent lifestyle. It has many globally recognised tourist attractions, thus people from around the globe flock into this city. It is also the most expensive places among other neighbourhoods.\n",
        "\n",
        "Brooklyn is both residential and industrial hotspot. Many people around the country and globe comes here in search of employment. It is the second most expensive neighbourhood.\n",
        "\n",
        "Sonder(NYC), Blueground, Michael and David are top 4 most spending customers. Their popular destinations is mainly Manhattan, Brooklyn and Queens.\n",
        "\n",
        "To start a business associated to Airbnb, one should acquire an Entire home/apt in Williamsburg neighbourhood. As, we saw Williamsburg accounts for nearly 8% of the total listings in entire NY city, it implies most days of the year rooms will be booked. And as average price of Entire home/apt is much higher, it might provide high return on investment.\n",
        "\n",
        "\n",
        "\n",
        "\n",
        "\n"
      ],
      "metadata": {
        "id": "Fjb1IsQkh3yE"
      }
    },
    {
      "cell_type": "markdown",
      "source": [
        "### ***Hurrah! You have successfully completed your EDA Capstone Project !!!***"
      ],
      "metadata": {
        "id": "gIfDvo9L0UH2"
      }
    }
  ]
}